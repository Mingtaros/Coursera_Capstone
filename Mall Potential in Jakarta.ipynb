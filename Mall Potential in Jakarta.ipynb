{
 "cells": [
  {
   "cell_type": "code",
   "execution_count": 40,
   "id": "earlier-glossary",
   "metadata": {},
   "outputs": [],
   "source": [
    "import numpy as np\n",
    "import pandas as pd\n",
    "import requests\n",
    "\n",
    "from bs4 import BeautifulSoup\n",
    "from geopy.geocoders import Nominatim\n",
    "\n",
    "from sklearn.cluster import KMeans"
   ]
  },
  {
   "cell_type": "markdown",
   "id": "still-funds",
   "metadata": {},
   "source": [
    "## Get Jakarta Districts"
   ]
  },
  {
   "cell_type": "code",
   "execution_count": 2,
   "id": "invalid-shower",
   "metadata": {},
   "outputs": [],
   "source": [
    "html_data = requests.get('https://id.wikipedia.org/wiki/Daftar_kecamatan_dan_kelurahan_di_Daerah_Khusus_Ibukota_Jakarta')\n",
    "soup = BeautifulSoup(html_data.text, \"html.parser\")"
   ]
  },
  {
   "cell_type": "code",
   "execution_count": 3,
   "id": "simplified-newark",
   "metadata": {
    "scrolled": true
   },
   "outputs": [],
   "source": [
    "tables = soup.find_all('table')\n",
    "\n",
    "# for each city part, get districts\n",
    "jakarta_tables = {\n",
    "    \"Central Jakarta\": tables[1],\n",
    "    \"North Jakarta\": tables[2],\n",
    "    \"East Jakarta\": tables[3],\n",
    "    \"South Jakarta\": tables[4],\n",
    "    \"West Jakarta\": tables[5],\n",
    "    \"Thousand Islands\": tables[6]\n",
    "}"
   ]
  },
  {
   "cell_type": "code",
   "execution_count": 4,
   "id": "accepted-confidence",
   "metadata": {},
   "outputs": [],
   "source": [
    "jakarta_district = []\n",
    "\n",
    "for each_part in jakarta_tables:\n",
    "    for row in jakarta_tables[each_part].find_all('tr'):\n",
    "        col = row.find_all('td')\n",
    "        if (len(col) == 4):\n",
    "            jakarta_district.append({\n",
    "                \"code\": col[0].text.strip('\\n'),\n",
    "                \"name\": col[1].text.strip('\\n'),\n",
    "                \"city\": each_part,\n",
    "                \"n_subdistricts\": col[2].text.strip('\\n'),\n",
    "            })\n",
    "\n",
    "district_data = pd.DataFrame(jakarta_district)"
   ]
  },
  {
   "cell_type": "code",
   "execution_count": 5,
   "id": "random-quality",
   "metadata": {},
   "outputs": [
    {
     "data": {
      "text/html": [
       "<div>\n",
       "<style scoped>\n",
       "    .dataframe tbody tr th:only-of-type {\n",
       "        vertical-align: middle;\n",
       "    }\n",
       "\n",
       "    .dataframe tbody tr th {\n",
       "        vertical-align: top;\n",
       "    }\n",
       "\n",
       "    .dataframe thead th {\n",
       "        text-align: right;\n",
       "    }\n",
       "</style>\n",
       "<table border=\"1\" class=\"dataframe\">\n",
       "  <thead>\n",
       "    <tr style=\"text-align: right;\">\n",
       "      <th></th>\n",
       "      <th>code</th>\n",
       "      <th>name</th>\n",
       "      <th>city</th>\n",
       "      <th>n_subdistricts</th>\n",
       "    </tr>\n",
       "  </thead>\n",
       "  <tbody>\n",
       "    <tr>\n",
       "      <th>0</th>\n",
       "      <td>31.71.05</td>\n",
       "      <td>Cempaka Putih</td>\n",
       "      <td>Central Jakarta</td>\n",
       "      <td>3</td>\n",
       "    </tr>\n",
       "    <tr>\n",
       "      <th>1</th>\n",
       "      <td>31.71.01</td>\n",
       "      <td>Gambir</td>\n",
       "      <td>Central Jakarta</td>\n",
       "      <td>6</td>\n",
       "    </tr>\n",
       "    <tr>\n",
       "      <th>2</th>\n",
       "      <td>31.71.08</td>\n",
       "      <td>Johar Baru</td>\n",
       "      <td>Central Jakarta</td>\n",
       "      <td>4</td>\n",
       "    </tr>\n",
       "    <tr>\n",
       "      <th>3</th>\n",
       "      <td>31.71.03</td>\n",
       "      <td>Kemayoran</td>\n",
       "      <td>Central Jakarta</td>\n",
       "      <td>8</td>\n",
       "    </tr>\n",
       "    <tr>\n",
       "      <th>4</th>\n",
       "      <td>31.71.06</td>\n",
       "      <td>Menteng</td>\n",
       "      <td>Central Jakarta</td>\n",
       "      <td>5</td>\n",
       "    </tr>\n",
       "  </tbody>\n",
       "</table>\n",
       "</div>"
      ],
      "text/plain": [
       "       code           name             city n_subdistricts\n",
       "0  31.71.05  Cempaka Putih  Central Jakarta              3\n",
       "1  31.71.01         Gambir  Central Jakarta              6\n",
       "2  31.71.08     Johar Baru  Central Jakarta              4\n",
       "3  31.71.03      Kemayoran  Central Jakarta              8\n",
       "4  31.71.06        Menteng  Central Jakarta              5"
      ]
     },
     "execution_count": 5,
     "metadata": {},
     "output_type": "execute_result"
    }
   ],
   "source": [
    "district_data.head()"
   ]
  },
  {
   "cell_type": "code",
   "execution_count": 6,
   "id": "tropical-static",
   "metadata": {},
   "outputs": [
    {
     "data": {
      "text/html": [
       "<div>\n",
       "<style scoped>\n",
       "    .dataframe tbody tr th:only-of-type {\n",
       "        vertical-align: middle;\n",
       "    }\n",
       "\n",
       "    .dataframe tbody tr th {\n",
       "        vertical-align: top;\n",
       "    }\n",
       "\n",
       "    .dataframe thead th {\n",
       "        text-align: right;\n",
       "    }\n",
       "</style>\n",
       "<table border=\"1\" class=\"dataframe\">\n",
       "  <thead>\n",
       "    <tr style=\"text-align: right;\">\n",
       "      <th></th>\n",
       "      <th>code</th>\n",
       "      <th>name</th>\n",
       "      <th>city</th>\n",
       "      <th>n_subdistricts</th>\n",
       "    </tr>\n",
       "  </thead>\n",
       "  <tbody>\n",
       "    <tr>\n",
       "      <th>42</th>\n",
       "      <td>31.01.01</td>\n",
       "      <td>Kepulauan Seribu Utara</td>\n",
       "      <td>Thousand Islands</td>\n",
       "      <td>3</td>\n",
       "    </tr>\n",
       "    <tr>\n",
       "      <th>43</th>\n",
       "      <td>31.01.02</td>\n",
       "      <td>Kepulauan Seribu Selatan</td>\n",
       "      <td>Thousand Islands</td>\n",
       "      <td>3</td>\n",
       "    </tr>\n",
       "  </tbody>\n",
       "</table>\n",
       "</div>"
      ],
      "text/plain": [
       "        code                      name              city n_subdistricts\n",
       "42  31.01.01    Kepulauan Seribu Utara  Thousand Islands              3\n",
       "43  31.01.02  Kepulauan Seribu Selatan  Thousand Islands              3"
      ]
     },
     "execution_count": 6,
     "metadata": {},
     "output_type": "execute_result"
    }
   ],
   "source": [
    "district_data[district_data['city'] == \"Thousand Islands\"]"
   ]
  },
  {
   "cell_type": "code",
   "execution_count": 7,
   "id": "upset-feeling",
   "metadata": {},
   "outputs": [
    {
     "data": {
      "text/plain": [
       "(44, 4)"
      ]
     },
     "execution_count": 7,
     "metadata": {},
     "output_type": "execute_result"
    }
   ],
   "source": [
    "district_data.shape"
   ]
  },
  {
   "cell_type": "markdown",
   "id": "stock-perth",
   "metadata": {},
   "source": [
    "## Get Long lat for each district"
   ]
  },
  {
   "cell_type": "code",
   "execution_count": 8,
   "id": "breathing-france",
   "metadata": {},
   "outputs": [],
   "source": [
    "geolocator = Nominatim(user_agent=\"jakartapp\")\n",
    "jakarta = geolocator.geocode('Jakarta')\n",
    "\n",
    "latitude = []\n",
    "longitude = []\n",
    "\n",
    "for code, name, city, n_subdistricts in district_data.values:\n",
    "    try:\n",
    "        location = geolocator.geocode(name + \", \" + city)\n",
    "        latitude.append(location.latitude)\n",
    "        longitude.append(location.longitude)\n",
    "    except AttributeError: # location not found, use jakarta whole geoloc\n",
    "        latitude.append(jakarta.latitude)\n",
    "        longitude.append(jakarta.longitude)\n",
    "    \n",
    "district_data['latitude'] = latitude\n",
    "district_data['longitude'] = longitude"
   ]
  },
  {
   "cell_type": "code",
   "execution_count": 9,
   "id": "elect-county",
   "metadata": {},
   "outputs": [
    {
     "data": {
      "text/html": [
       "<div>\n",
       "<style scoped>\n",
       "    .dataframe tbody tr th:only-of-type {\n",
       "        vertical-align: middle;\n",
       "    }\n",
       "\n",
       "    .dataframe tbody tr th {\n",
       "        vertical-align: top;\n",
       "    }\n",
       "\n",
       "    .dataframe thead th {\n",
       "        text-align: right;\n",
       "    }\n",
       "</style>\n",
       "<table border=\"1\" class=\"dataframe\">\n",
       "  <thead>\n",
       "    <tr style=\"text-align: right;\">\n",
       "      <th></th>\n",
       "      <th>code</th>\n",
       "      <th>name</th>\n",
       "      <th>city</th>\n",
       "      <th>n_subdistricts</th>\n",
       "      <th>latitude</th>\n",
       "      <th>longitude</th>\n",
       "    </tr>\n",
       "  </thead>\n",
       "  <tbody>\n",
       "    <tr>\n",
       "      <th>0</th>\n",
       "      <td>31.71.05</td>\n",
       "      <td>Cempaka Putih</td>\n",
       "      <td>Central Jakarta</td>\n",
       "      <td>3</td>\n",
       "      <td>-6.181214</td>\n",
       "      <td>106.868548</td>\n",
       "    </tr>\n",
       "    <tr>\n",
       "      <th>1</th>\n",
       "      <td>31.71.01</td>\n",
       "      <td>Gambir</td>\n",
       "      <td>Central Jakarta</td>\n",
       "      <td>6</td>\n",
       "      <td>-6.176684</td>\n",
       "      <td>106.830653</td>\n",
       "    </tr>\n",
       "    <tr>\n",
       "      <th>2</th>\n",
       "      <td>31.71.08</td>\n",
       "      <td>Johar Baru</td>\n",
       "      <td>Central Jakarta</td>\n",
       "      <td>4</td>\n",
       "      <td>-6.186206</td>\n",
       "      <td>106.857134</td>\n",
       "    </tr>\n",
       "    <tr>\n",
       "      <th>3</th>\n",
       "      <td>31.71.03</td>\n",
       "      <td>Kemayoran</td>\n",
       "      <td>Central Jakarta</td>\n",
       "      <td>8</td>\n",
       "      <td>-6.162546</td>\n",
       "      <td>106.856890</td>\n",
       "    </tr>\n",
       "    <tr>\n",
       "      <th>4</th>\n",
       "      <td>31.71.06</td>\n",
       "      <td>Menteng</td>\n",
       "      <td>Central Jakarta</td>\n",
       "      <td>5</td>\n",
       "      <td>-6.195026</td>\n",
       "      <td>106.832224</td>\n",
       "    </tr>\n",
       "  </tbody>\n",
       "</table>\n",
       "</div>"
      ],
      "text/plain": [
       "       code           name             city n_subdistricts  latitude  \\\n",
       "0  31.71.05  Cempaka Putih  Central Jakarta              3 -6.181214   \n",
       "1  31.71.01         Gambir  Central Jakarta              6 -6.176684   \n",
       "2  31.71.08     Johar Baru  Central Jakarta              4 -6.186206   \n",
       "3  31.71.03      Kemayoran  Central Jakarta              8 -6.162546   \n",
       "4  31.71.06        Menteng  Central Jakarta              5 -6.195026   \n",
       "\n",
       "    longitude  \n",
       "0  106.868548  \n",
       "1  106.830653  \n",
       "2  106.857134  \n",
       "3  106.856890  \n",
       "4  106.832224  "
      ]
     },
     "execution_count": 9,
     "metadata": {},
     "output_type": "execute_result"
    }
   ],
   "source": [
    "district_data.head()"
   ]
  },
  {
   "cell_type": "markdown",
   "id": "decreased-plastic",
   "metadata": {},
   "source": [
    "## Add Population Density to data"
   ]
  },
  {
   "cell_type": "code",
   "execution_count": 26,
   "id": "strategic-company",
   "metadata": {
    "scrolled": true
   },
   "outputs": [
    {
     "data": {
      "text/html": [
       "<div>\n",
       "<style scoped>\n",
       "    .dataframe tbody tr th:only-of-type {\n",
       "        vertical-align: middle;\n",
       "    }\n",
       "\n",
       "    .dataframe tbody tr th {\n",
       "        vertical-align: top;\n",
       "    }\n",
       "\n",
       "    .dataframe thead th {\n",
       "        text-align: right;\n",
       "    }\n",
       "</style>\n",
       "<table border=\"1\" class=\"dataframe\">\n",
       "  <thead>\n",
       "    <tr style=\"text-align: right;\">\n",
       "      <th></th>\n",
       "      <th>tahun</th>\n",
       "      <th>nama_provinsi</th>\n",
       "      <th>nama_kabupaten/kota</th>\n",
       "      <th>nama_kecamatan</th>\n",
       "      <th>nama_kelurahan</th>\n",
       "      <th>jenis_kelamin</th>\n",
       "      <th>jumlah</th>\n",
       "    </tr>\n",
       "  </thead>\n",
       "  <tbody>\n",
       "    <tr>\n",
       "      <th>0</th>\n",
       "      <td>2019</td>\n",
       "      <td>PROVINSI DKI JAKARTA</td>\n",
       "      <td>KAB.ADM.KEP.SERIBU</td>\n",
       "      <td>KEP. SERIBU UTR</td>\n",
       "      <td>P. PANGGANG</td>\n",
       "      <td>Laki-laki</td>\n",
       "      <td>2474</td>\n",
       "    </tr>\n",
       "    <tr>\n",
       "      <th>1</th>\n",
       "      <td>2019</td>\n",
       "      <td>PROVINSI DKI JAKARTA</td>\n",
       "      <td>KAB.ADM.KEP.SERIBU</td>\n",
       "      <td>KEP. SERIBU UTR</td>\n",
       "      <td>P. KELAPA</td>\n",
       "      <td>Laki-laki</td>\n",
       "      <td>2486</td>\n",
       "    </tr>\n",
       "    <tr>\n",
       "      <th>2</th>\n",
       "      <td>2019</td>\n",
       "      <td>PROVINSI DKI JAKARTA</td>\n",
       "      <td>KAB.ADM.KEP.SERIBU</td>\n",
       "      <td>KEP. SERIBU UTR</td>\n",
       "      <td>P. HARAPAN</td>\n",
       "      <td>Laki-laki</td>\n",
       "      <td>934</td>\n",
       "    </tr>\n",
       "    <tr>\n",
       "      <th>3</th>\n",
       "      <td>2019</td>\n",
       "      <td>PROVINSI DKI JAKARTA</td>\n",
       "      <td>KAB.ADM.KEP.SERIBU</td>\n",
       "      <td>KEP. SERIBU SLT</td>\n",
       "      <td>P. UNTUNG JAWA</td>\n",
       "      <td>Laki-laki</td>\n",
       "      <td>847</td>\n",
       "    </tr>\n",
       "    <tr>\n",
       "      <th>4</th>\n",
       "      <td>2019</td>\n",
       "      <td>PROVINSI DKI JAKARTA</td>\n",
       "      <td>KAB.ADM.KEP.SERIBU</td>\n",
       "      <td>KEP. SERIBU SLT</td>\n",
       "      <td>P. TIDUNG</td>\n",
       "      <td>Laki-laki</td>\n",
       "      <td>2038</td>\n",
       "    </tr>\n",
       "  </tbody>\n",
       "</table>\n",
       "</div>"
      ],
      "text/plain": [
       "   tahun         nama_provinsi nama_kabupaten/kota   nama_kecamatan  \\\n",
       "0   2019  PROVINSI DKI JAKARTA  KAB.ADM.KEP.SERIBU  KEP. SERIBU UTR   \n",
       "1   2019  PROVINSI DKI JAKARTA  KAB.ADM.KEP.SERIBU  KEP. SERIBU UTR   \n",
       "2   2019  PROVINSI DKI JAKARTA  KAB.ADM.KEP.SERIBU  KEP. SERIBU UTR   \n",
       "3   2019  PROVINSI DKI JAKARTA  KAB.ADM.KEP.SERIBU  KEP. SERIBU SLT   \n",
       "4   2019  PROVINSI DKI JAKARTA  KAB.ADM.KEP.SERIBU  KEP. SERIBU SLT   \n",
       "\n",
       "   nama_kelurahan jenis_kelamin  jumlah  \n",
       "0     P. PANGGANG     Laki-laki    2474  \n",
       "1       P. KELAPA     Laki-laki    2486  \n",
       "2      P. HARAPAN     Laki-laki     934  \n",
       "3  P. UNTUNG JAWA     Laki-laki     847  \n",
       "4       P. TIDUNG     Laki-laki    2038  "
      ]
     },
     "execution_count": 26,
     "metadata": {},
     "output_type": "execute_result"
    }
   ],
   "source": [
    "# data source: https://data.go.id/dataset/jumlah-penduduk-wajib-ktp-dki-jakarta\n",
    "density = pd.read_csv(\"data/2019_population_density.csv\")\n",
    "density.head()"
   ]
  },
  {
   "cell_type": "code",
   "execution_count": 27,
   "id": "floral-raising",
   "metadata": {},
   "outputs": [
    {
     "data": {
      "text/plain": [
       "array(['KEP. SERIBU UTR', 'KEP. SERIBU SLT', 'GAMBIR', 'SAWAH BESAR',\n",
       "       'KEMAYORAN', 'SENEN', 'CEMPAKA PUTIH', 'MENTENG', 'TANAH ABANG',\n",
       "       'JOHAR BARU', 'PENJARINGAN', 'TANJUNG PRIOK', 'KOJA', 'CILINCING',\n",
       "       'PADEMANGAN', 'KELAPA GADING', 'CENGKARENG', 'GROGOL PETAMBURAN',\n",
       "       'TAMAN SARI', 'TAMBORA', 'KEBON JERUK', 'KALI DERES', 'PALMERAH',\n",
       "       'KEMBANGAN', 'TEBET', 'SETIA BUDI', 'MAMPANG PRAPATAN',\n",
       "       'PASAR MINGGU', 'KEBAYORAN LAMA', 'CILANDAK', 'KEBAYORAN BARU',\n",
       "       'PANCORAN', 'JAGAKARSA', 'PESANGGRAHAN', 'MATRAMAN', 'PULO GADUNG',\n",
       "       'JATINEGARA', 'KRAMAT JATI', 'PASAR REBO', 'CAKUNG', 'DUREN SAWIT',\n",
       "       'MAKASAR', 'CIRACAS', 'CIPAYUNG'], dtype=object)"
      ]
     },
     "execution_count": 27,
     "metadata": {},
     "output_type": "execute_result"
    }
   ],
   "source": [
    "density[\"nama_kecamatan\"].unique()"
   ]
  },
  {
   "cell_type": "code",
   "execution_count": 28,
   "id": "searching-impact",
   "metadata": {},
   "outputs": [
    {
     "data": {
      "text/html": [
       "<div>\n",
       "<style scoped>\n",
       "    .dataframe tbody tr th:only-of-type {\n",
       "        vertical-align: middle;\n",
       "    }\n",
       "\n",
       "    .dataframe tbody tr th {\n",
       "        vertical-align: top;\n",
       "    }\n",
       "\n",
       "    .dataframe thead th {\n",
       "        text-align: right;\n",
       "    }\n",
       "</style>\n",
       "<table border=\"1\" class=\"dataframe\">\n",
       "  <thead>\n",
       "    <tr style=\"text-align: right;\">\n",
       "      <th></th>\n",
       "      <th>nama_kecamatan</th>\n",
       "      <th>jumlah</th>\n",
       "    </tr>\n",
       "  </thead>\n",
       "  <tbody>\n",
       "    <tr>\n",
       "      <th>0</th>\n",
       "      <td>CAKUNG</td>\n",
       "      <td>399252</td>\n",
       "    </tr>\n",
       "    <tr>\n",
       "      <th>1</th>\n",
       "      <td>CEMPAKA PUTIH</td>\n",
       "      <td>75267</td>\n",
       "    </tr>\n",
       "    <tr>\n",
       "      <th>2</th>\n",
       "      <td>CENGKARENG</td>\n",
       "      <td>406806</td>\n",
       "    </tr>\n",
       "    <tr>\n",
       "      <th>3</th>\n",
       "      <td>CILANDAK</td>\n",
       "      <td>166128</td>\n",
       "    </tr>\n",
       "    <tr>\n",
       "      <th>4</th>\n",
       "      <td>CILINCING</td>\n",
       "      <td>302248</td>\n",
       "    </tr>\n",
       "  </tbody>\n",
       "</table>\n",
       "</div>"
      ],
      "text/plain": [
       "  nama_kecamatan  jumlah\n",
       "0         CAKUNG  399252\n",
       "1  CEMPAKA PUTIH   75267\n",
       "2     CENGKARENG  406806\n",
       "3       CILANDAK  166128\n",
       "4      CILINCING  302248"
      ]
     },
     "execution_count": 28,
     "metadata": {},
     "output_type": "execute_result"
    }
   ],
   "source": [
    "district_density = density[[\"nama_kecamatan\", \"jumlah\"]].groupby(\"nama_kecamatan\").sum(\"jumlah\")\n",
    "district_density.reset_index(inplace=True)\n",
    "district_density.head()"
   ]
  },
  {
   "cell_type": "code",
   "execution_count": 29,
   "id": "cellular-coach",
   "metadata": {},
   "outputs": [],
   "source": [
    "# change format of district names\n",
    "new_form_dnames = []\n",
    "\n",
    "for d_names in district_density['nama_kecamatan'].values:\n",
    "    if (d_names.split()[0] == \"KEP.\"): # thousand islands\n",
    "        if (d_names.split()[2] == \"UTR\"):\n",
    "            new_form_dnames.append(\"Kepulauan Seribu Utara\")\n",
    "        elif (d_names.split()[2] == \"SLT\"):\n",
    "            new_form_dnames.append(\"Kepulauan Seribu Selatan\")\n",
    "    \n",
    "    elif (d_names == \"KALI DERES\"):\n",
    "        new_form_dnames.append(\"Kalideres\")\n",
    "        \n",
    "    elif (d_names == \"SETIA BUDI\"):\n",
    "        new_form_dnames.append(\"Setiabudi\")\n",
    "    \n",
    "    else:\n",
    "        new_form_dnames.append(d_names.lower().title())\n",
    "        \n",
    "district_density['nama_kecamatan'] = new_form_dnames"
   ]
  },
  {
   "cell_type": "code",
   "execution_count": 30,
   "id": "roman-mercy",
   "metadata": {},
   "outputs": [],
   "source": [
    "district_density.rename({\n",
    "    \"nama_kecamatan\": \"name\",\n",
    "    \"jumlah\": \"population_density\",\n",
    "}, axis=1, inplace=True)"
   ]
  },
  {
   "cell_type": "code",
   "execution_count": 31,
   "id": "pretty-colonial",
   "metadata": {},
   "outputs": [
    {
     "data": {
      "text/html": [
       "<div>\n",
       "<style scoped>\n",
       "    .dataframe tbody tr th:only-of-type {\n",
       "        vertical-align: middle;\n",
       "    }\n",
       "\n",
       "    .dataframe tbody tr th {\n",
       "        vertical-align: top;\n",
       "    }\n",
       "\n",
       "    .dataframe thead th {\n",
       "        text-align: right;\n",
       "    }\n",
       "</style>\n",
       "<table border=\"1\" class=\"dataframe\">\n",
       "  <thead>\n",
       "    <tr style=\"text-align: right;\">\n",
       "      <th></th>\n",
       "      <th>name</th>\n",
       "      <th>population_density</th>\n",
       "    </tr>\n",
       "  </thead>\n",
       "  <tbody>\n",
       "    <tr>\n",
       "      <th>0</th>\n",
       "      <td>Cakung</td>\n",
       "      <td>399252</td>\n",
       "    </tr>\n",
       "    <tr>\n",
       "      <th>1</th>\n",
       "      <td>Cempaka Putih</td>\n",
       "      <td>75267</td>\n",
       "    </tr>\n",
       "    <tr>\n",
       "      <th>2</th>\n",
       "      <td>Cengkareng</td>\n",
       "      <td>406806</td>\n",
       "    </tr>\n",
       "    <tr>\n",
       "      <th>3</th>\n",
       "      <td>Cilandak</td>\n",
       "      <td>166128</td>\n",
       "    </tr>\n",
       "    <tr>\n",
       "      <th>4</th>\n",
       "      <td>Cilincing</td>\n",
       "      <td>302248</td>\n",
       "    </tr>\n",
       "  </tbody>\n",
       "</table>\n",
       "</div>"
      ],
      "text/plain": [
       "            name  population_density\n",
       "0         Cakung              399252\n",
       "1  Cempaka Putih               75267\n",
       "2     Cengkareng              406806\n",
       "3       Cilandak              166128\n",
       "4      Cilincing              302248"
      ]
     },
     "execution_count": 31,
     "metadata": {},
     "output_type": "execute_result"
    }
   ],
   "source": [
    "district_density.head()"
   ]
  },
  {
   "cell_type": "code",
   "execution_count": 32,
   "id": "checked-schedule",
   "metadata": {},
   "outputs": [
    {
     "data": {
      "text/plain": [
       "array(['Cakung', 'Cempaka Putih', 'Cengkareng', 'Cilandak', 'Cilincing',\n",
       "       'Cipayung', 'Ciracas', 'Duren Sawit', 'Gambir',\n",
       "       'Grogol Petamburan', 'Jagakarsa', 'Jatinegara', 'Johar Baru',\n",
       "       'Kalideres', 'Kebayoran Baru', 'Kebayoran Lama', 'Kebon Jeruk',\n",
       "       'Kelapa Gading', 'Kemayoran', 'Kembangan',\n",
       "       'Kepulauan Seribu Selatan', 'Kepulauan Seribu Utara', 'Koja',\n",
       "       'Kramat Jati', 'Makasar', 'Mampang Prapatan', 'Matraman',\n",
       "       'Menteng', 'Pademangan', 'Palmerah', 'Pancoran', 'Pasar Minggu',\n",
       "       'Pasar Rebo', 'Penjaringan', 'Pesanggrahan', 'Pulo Gadung',\n",
       "       'Sawah Besar', 'Senen', 'Setiabudi', 'Taman Sari', 'Tambora',\n",
       "       'Tanah Abang', 'Tanjung Priok', 'Tebet'], dtype=object)"
      ]
     },
     "execution_count": 32,
     "metadata": {},
     "output_type": "execute_result"
    }
   ],
   "source": [
    "district_density['name'].values"
   ]
  },
  {
   "cell_type": "code",
   "execution_count": 33,
   "id": "sweet-canal",
   "metadata": {},
   "outputs": [
    {
     "data": {
      "text/plain": [
       "(44, 2)"
      ]
     },
     "execution_count": 33,
     "metadata": {},
     "output_type": "execute_result"
    }
   ],
   "source": [
    "district_density.shape"
   ]
  },
  {
   "cell_type": "markdown",
   "id": "russian-hazard",
   "metadata": {},
   "source": [
    "### Merge District Density and District Data"
   ]
  },
  {
   "cell_type": "code",
   "execution_count": 34,
   "id": "magnetic-interest",
   "metadata": {
    "scrolled": true
   },
   "outputs": [
    {
     "name": "stdout",
     "output_type": "stream",
     "text": [
      "[]\n",
      "[]\n"
     ]
    }
   ],
   "source": [
    "# find difference of district names in both dataframes\n",
    "\n",
    "print([a for a in district_density['name'].values if (a not in district_data['name'].values)])\n",
    "print([a for a in district_data['name'].values if (a not in district_density['name'].values)])"
   ]
  },
  {
   "cell_type": "code",
   "execution_count": 35,
   "id": "attached-panic",
   "metadata": {},
   "outputs": [],
   "source": [
    "complete_district_data = district_data.merge(district_density, on=\"name\")"
   ]
  },
  {
   "cell_type": "code",
   "execution_count": 36,
   "id": "sunrise-australian",
   "metadata": {},
   "outputs": [
    {
     "data": {
      "text/plain": [
       "(44, 7)"
      ]
     },
     "execution_count": 36,
     "metadata": {},
     "output_type": "execute_result"
    }
   ],
   "source": [
    "complete_district_data.shape"
   ]
  },
  {
   "cell_type": "code",
   "execution_count": 38,
   "id": "occupational-daily",
   "metadata": {},
   "outputs": [
    {
     "data": {
      "text/html": [
       "<div>\n",
       "<style scoped>\n",
       "    .dataframe tbody tr th:only-of-type {\n",
       "        vertical-align: middle;\n",
       "    }\n",
       "\n",
       "    .dataframe tbody tr th {\n",
       "        vertical-align: top;\n",
       "    }\n",
       "\n",
       "    .dataframe thead th {\n",
       "        text-align: right;\n",
       "    }\n",
       "</style>\n",
       "<table border=\"1\" class=\"dataframe\">\n",
       "  <thead>\n",
       "    <tr style=\"text-align: right;\">\n",
       "      <th></th>\n",
       "      <th>code</th>\n",
       "      <th>name</th>\n",
       "      <th>city</th>\n",
       "      <th>n_subdistricts</th>\n",
       "      <th>latitude</th>\n",
       "      <th>longitude</th>\n",
       "      <th>population_density</th>\n",
       "    </tr>\n",
       "  </thead>\n",
       "  <tbody>\n",
       "    <tr>\n",
       "      <th>0</th>\n",
       "      <td>31.71.05</td>\n",
       "      <td>Cempaka Putih</td>\n",
       "      <td>Central Jakarta</td>\n",
       "      <td>3</td>\n",
       "      <td>-6.181214</td>\n",
       "      <td>106.868548</td>\n",
       "      <td>75267</td>\n",
       "    </tr>\n",
       "    <tr>\n",
       "      <th>1</th>\n",
       "      <td>31.71.01</td>\n",
       "      <td>Gambir</td>\n",
       "      <td>Central Jakarta</td>\n",
       "      <td>6</td>\n",
       "      <td>-6.176684</td>\n",
       "      <td>106.830653</td>\n",
       "      <td>76192</td>\n",
       "    </tr>\n",
       "    <tr>\n",
       "      <th>2</th>\n",
       "      <td>31.71.08</td>\n",
       "      <td>Johar Baru</td>\n",
       "      <td>Central Jakarta</td>\n",
       "      <td>4</td>\n",
       "      <td>-6.186206</td>\n",
       "      <td>106.857134</td>\n",
       "      <td>105332</td>\n",
       "    </tr>\n",
       "    <tr>\n",
       "      <th>3</th>\n",
       "      <td>31.71.03</td>\n",
       "      <td>Kemayoran</td>\n",
       "      <td>Central Jakarta</td>\n",
       "      <td>8</td>\n",
       "      <td>-6.162546</td>\n",
       "      <td>106.856890</td>\n",
       "      <td>191652</td>\n",
       "    </tr>\n",
       "    <tr>\n",
       "      <th>4</th>\n",
       "      <td>31.71.06</td>\n",
       "      <td>Menteng</td>\n",
       "      <td>Central Jakarta</td>\n",
       "      <td>5</td>\n",
       "      <td>-6.195026</td>\n",
       "      <td>106.832224</td>\n",
       "      <td>68584</td>\n",
       "    </tr>\n",
       "  </tbody>\n",
       "</table>\n",
       "</div>"
      ],
      "text/plain": [
       "       code           name             city n_subdistricts  latitude  \\\n",
       "0  31.71.05  Cempaka Putih  Central Jakarta              3 -6.181214   \n",
       "1  31.71.01         Gambir  Central Jakarta              6 -6.176684   \n",
       "2  31.71.08     Johar Baru  Central Jakarta              4 -6.186206   \n",
       "3  31.71.03      Kemayoran  Central Jakarta              8 -6.162546   \n",
       "4  31.71.06        Menteng  Central Jakarta              5 -6.195026   \n",
       "\n",
       "    longitude  population_density  \n",
       "0  106.868548               75267  \n",
       "1  106.830653               76192  \n",
       "2  106.857134              105332  \n",
       "3  106.856890              191652  \n",
       "4  106.832224               68584  "
      ]
     },
     "execution_count": 38,
     "metadata": {},
     "output_type": "execute_result"
    }
   ],
   "source": [
    "complete_district_data.head()"
   ]
  },
  {
   "cell_type": "markdown",
   "id": "amateur-thursday",
   "metadata": {},
   "source": [
    "## Cluster goodness of putting a mall\n",
    "If small n_subdistricts, than we can assume that the district is smaller, therefore not much land to build a mall<br>\n",
    "If small population_density, smaller chance of the mall being known"
   ]
  },
  {
   "cell_type": "code",
   "execution_count": null,
   "id": "assumed-scene",
   "metadata": {},
   "outputs": [],
   "source": [
    "cluster = "
   ]
  }
 ],
 "metadata": {
  "kernelspec": {
   "display_name": "Python 3",
   "language": "python",
   "name": "python3"
  },
  "language_info": {
   "codemirror_mode": {
    "name": "ipython",
    "version": 3
   },
   "file_extension": ".py",
   "mimetype": "text/x-python",
   "name": "python",
   "nbconvert_exporter": "python",
   "pygments_lexer": "ipython3",
   "version": "3.8.5"
  }
 },
 "nbformat": 4,
 "nbformat_minor": 5
}
